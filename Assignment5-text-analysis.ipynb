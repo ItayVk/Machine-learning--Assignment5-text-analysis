{
 "cells": [
  {
   "cell_type": "markdown",
   "metadata": {},
   "source": [
    "# Assignment 5 - Text Analysis\n",
    "An explanation this assignment could be found in the .pdf explanation document"
   ]
  },
  {
   "cell_type": "markdown",
   "metadata": {},
   "source": [
    "\n",
    "## Materials to review for this assignment\n",
    "<h4>From Moodle:</h4> \n",
    "<h5><u>Review the notebooks regarding the following python topics</u>:</h5>\n",
    "<div class=\"alert alert-info\">\n",
    "&#x2714; <b>Working with strings</b> (tutorial notebook)<br/>\n",
    "&#x2714; <b>Text Analysis</b> (tutorial notebook)<br/>\n",
    "&#x2714; <b>Hebrew text analysis tools (tokenizer, wordnet)</b> (moodle example)<br/>\n",
    "&#x2714; <b>(brief review) All previous notebooks</b><br/>\n",
    "</div> \n",
    "<h5><u>Review the presentations regarding the following topics</u>:</h5>\n",
    "<div class=\"alert alert-info\">\n",
    "&#x2714; <b>Text Analysis</b> (lecture presentation)<br/>\n",
    "&#x2714; <b>(brief review) All other presentations</b><br/>\n",
    "</div>"
   ]
  },
  {
   "cell_type": "markdown",
   "metadata": {},
   "source": [
    "## Preceding Step - import modules (packages)\n",
    "This step is necessary in order to use external modules (packages). <br/>"
   ]
  },
  {
   "cell_type": "code",
   "execution_count": 1,
   "metadata": {},
   "outputs": [],
   "source": [
    "# --------------------------------------\n",
    "import pandas as pd\n",
    "import numpy as np\n",
    "# --------------------------------------\n",
    "\n",
    "\n",
    "# --------------------------------------\n",
    "# ------------- visualizations:\n",
    "import seaborn as sns\n",
    "import matplotlib.pyplot as plt\n",
    "from matplotlib.colors import ListedColormap\n",
    "# --------------------------------------\n",
    "\n",
    "\n",
    "# ---------------------------------------\n",
    "import sklearn\n",
    "from sklearn import preprocessing, metrics, pipeline, model_selection, feature_extraction \n",
    "from sklearn import naive_bayes, linear_model, svm, neural_network, neighbors, tree\n",
    "from sklearn import decomposition, cluster\n",
    "\n",
    "from sklearn.model_selection import train_test_split, cross_val_score, GridSearchCV \n",
    "from sklearn.pipeline import Pipeline\n",
    "from sklearn.metrics import accuracy_score, confusion_matrix\n",
    "from sklearn.metrics import precision_score, recall_score, f1_score\n",
    "from sklearn.metrics import mean_squared_error, r2_score, silhouette_score\n",
    "from sklearn.preprocessing import MinMaxScaler, StandardScaler, LabelEncoder\n",
    "\n",
    "from sklearn.svm import LinearSVC\n",
    "from sklearn.neural_network import MLPClassifier\n",
    "from sklearn.linear_model import Perceptron, SGDClassifier\n",
    "from sklearn.decomposition import PCA\n",
    "from sklearn.cluster import KMeans\n",
    "from sklearn.naive_bayes import MultinomialNB, GaussianNB\n",
    "from sklearn.neighbors import KNeighborsClassifier\n",
    "from sklearn.tree import DecisionTreeClassifier\n",
    "# ---------------------------------------\n",
    "\n",
    "\n",
    "# ----------------- output and visualizations: \n",
    "import warnings\n",
    "from sklearn.exceptions import ConvergenceWarning\n",
    "warnings.simplefilter(\"ignore\")\n",
    "warnings.simplefilter(action='ignore', category=FutureWarning)\n",
    "warnings.simplefilter(\"ignore\", category=ConvergenceWarning)\n",
    "# show several prints in one cell. This will allow us to condence every trick in one cell.\n",
    "from IPython.core.interactiveshell import InteractiveShell\n",
    "InteractiveShell.ast_node_interactivity = \"all\"\n",
    "%matplotlib inline\n",
    "pd.pandas.set_option('display.max_columns', None)\n",
    "pd.set_option('display.float_format', lambda x: '%.3f' % x)\n",
    "# ---------------------------------------"
   ]
  },
  {
   "cell_type": "markdown",
   "metadata": {},
   "source": [
    "### Text analysis and String manipulation imports:"
   ]
  },
  {
   "cell_type": "code",
   "execution_count": 2,
   "metadata": {},
   "outputs": [],
   "source": [
    "# --------------------------------------\n",
    "# --------- Text analysis and Hebrew text analysis imports:\n",
    "# vectorizers:\n",
    "from sklearn.feature_extraction import text\n",
    "from sklearn.feature_extraction.text import CountVectorizer, TfidfVectorizer\n",
    "\n",
    "# regular expressions:\n",
    "import re\n",
    "# --------------------------------------"
   ]
  },
  {
   "cell_type": "markdown",
   "metadata": {},
   "source": [
    "### (optional) Hebrew text analysis - WordNet (for Hebrew)\n",
    "Note: the WordNet is not a must"
   ]
  },
  {
   "cell_type": "markdown",
   "metadata": {},
   "source": [
    "#### (optional) Only if you didn't install Wordnet (for Hebrew) use:"
   ]
  },
  {
   "cell_type": "code",
   "execution_count": 3,
   "metadata": {},
   "outputs": [],
   "source": [
    "# word net installation:\n",
    "\n",
    "# unmark if you want to use and need to install\n",
    "# !pip install wn\n",
    "# !python -m wn download omw-he:1.4"
   ]
  },
  {
   "cell_type": "code",
   "execution_count": 4,
   "metadata": {},
   "outputs": [],
   "source": [
    "# word net import:\n",
    "\n",
    "# unmark if you want to use:\n",
    "# import wn"
   ]
  },
  {
   "cell_type": "markdown",
   "metadata": {},
   "source": [
    "### (optional) Hebrew text analysis - hebrew_tokenizer (Tokenizer for Hebrew)\n",
    "Note: the hebrew_tokenizer is not a must"
   ]
  },
  {
   "cell_type": "markdown",
   "metadata": {},
   "source": [
    "#### (optional) Only if you didn't install hebrew_tokenizer use:"
   ]
  },
  {
   "cell_type": "code",
   "execution_count": 5,
   "metadata": {},
   "outputs": [],
   "source": [
    "# Hebrew tokenizer installation:\n",
    "\n",
    "# unmark if you want to use and need to install:\n",
    "#!pip install hebrew_tokenizer"
   ]
  },
  {
   "cell_type": "code",
   "execution_count": 6,
   "metadata": {},
   "outputs": [],
   "source": [
    "# Hebrew tokenizer import:\n",
    "\n",
    "# unmark if you want to use:\n",
    "#import hebrew_tokenizer as ht"
   ]
  },
  {
   "cell_type": "markdown",
   "metadata": {},
   "source": [
    "### Reading input files\n",
    "Reading input files for train annotated corpus (raw text data) corpus and for the test corpus"
   ]
  },
  {
   "cell_type": "code",
   "execution_count": 7,
   "metadata": {},
   "outputs": [],
   "source": [
    "train_filename = 'annotated_corpus_for_train.csv'\n",
    "test_filename  = 'corpus_for_test.csv'\n",
    "df_train = pd.read_csv(train_filename, index_col=None, encoding='utf-8')\n",
    "df_test  = pd.read_csv(test_filename, index_col=None, encoding='utf-8')"
   ]
  },
  {
   "cell_type": "code",
   "execution_count": 8,
   "metadata": {},
   "outputs": [
    {
     "data": {
      "text/html": [
       "<div>\n",
       "<style scoped>\n",
       "    .dataframe tbody tr th:only-of-type {\n",
       "        vertical-align: middle;\n",
       "    }\n",
       "\n",
       "    .dataframe tbody tr th {\n",
       "        vertical-align: top;\n",
       "    }\n",
       "\n",
       "    .dataframe thead th {\n",
       "        text-align: right;\n",
       "    }\n",
       "</style>\n",
       "<table border=\"1\" class=\"dataframe\">\n",
       "  <thead>\n",
       "    <tr style=\"text-align: right;\">\n",
       "      <th></th>\n",
       "      <th>story</th>\n",
       "      <th>gender</th>\n",
       "    </tr>\n",
       "  </thead>\n",
       "  <tbody>\n",
       "    <tr>\n",
       "      <th>0</th>\n",
       "      <td>כשחבר הזמין אותי לחול, לא באמת חשבתי שזה יקרה,...</td>\n",
       "      <td>m</td>\n",
       "    </tr>\n",
       "    <tr>\n",
       "      <th>1</th>\n",
       "      <td>לפני שהתגייסתי לצבא עשיתי כל מני מיונים ליחידו...</td>\n",
       "      <td>m</td>\n",
       "    </tr>\n",
       "    <tr>\n",
       "      <th>2</th>\n",
       "      <td>מאז שהתחילו הלימודים חלומו של כל סטודנט זה הפנ...</td>\n",
       "      <td>f</td>\n",
       "    </tr>\n",
       "    <tr>\n",
       "      <th>3</th>\n",
       "      <td>כשהייתי ילד, מטוסים היה הדבר שהכי ריתק אותי. ב...</td>\n",
       "      <td>m</td>\n",
       "    </tr>\n",
       "    <tr>\n",
       "      <th>4</th>\n",
       "      <td>‏הייתי מדריכה בכפר נוער ומתאם הכפר היינו צריכי...</td>\n",
       "      <td>f</td>\n",
       "    </tr>\n",
       "    <tr>\n",
       "      <th>5</th>\n",
       "      <td>לפני כ3 חודשים טסתי לרומא למשך שבוע. טסתי במטו...</td>\n",
       "      <td>f</td>\n",
       "    </tr>\n",
       "    <tr>\n",
       "      <th>6</th>\n",
       "      <td>אני כבר שנתיים נשוי והשנה אני ואישתי סוף סוף י...</td>\n",
       "      <td>m</td>\n",
       "    </tr>\n",
       "    <tr>\n",
       "      <th>7</th>\n",
       "      <td>השנה התחלנו שיפוץ בדירה שלנו בתל אביב. הדירה ה...</td>\n",
       "      <td>f</td>\n",
       "    </tr>\n",
       "  </tbody>\n",
       "</table>\n",
       "</div>"
      ],
      "text/plain": [
       "                                               story gender\n",
       "0  כשחבר הזמין אותי לחול, לא באמת חשבתי שזה יקרה,...      m\n",
       "1  לפני שהתגייסתי לצבא עשיתי כל מני מיונים ליחידו...      m\n",
       "2  מאז שהתחילו הלימודים חלומו של כל סטודנט זה הפנ...      f\n",
       "3  כשהייתי ילד, מטוסים היה הדבר שהכי ריתק אותי. ב...      m\n",
       "4  ‏הייתי מדריכה בכפר נוער ומתאם הכפר היינו צריכי...      f\n",
       "5  לפני כ3 חודשים טסתי לרומא למשך שבוע. טסתי במטו...      f\n",
       "6  אני כבר שנתיים נשוי והשנה אני ואישתי סוף סוף י...      m\n",
       "7  השנה התחלנו שיפוץ בדירה שלנו בתל אביב. הדירה ה...      f"
      ]
     },
     "execution_count": 8,
     "metadata": {},
     "output_type": "execute_result"
    },
    {
     "data": {
      "text/plain": [
       "(753, 2)"
      ]
     },
     "execution_count": 8,
     "metadata": {},
     "output_type": "execute_result"
    }
   ],
   "source": [
    "df_train.head(8)\n",
    "df_train.shape"
   ]
  },
  {
   "cell_type": "code",
   "execution_count": 9,
   "metadata": {},
   "outputs": [
    {
     "data": {
      "text/html": [
       "<div>\n",
       "<style scoped>\n",
       "    .dataframe tbody tr th:only-of-type {\n",
       "        vertical-align: middle;\n",
       "    }\n",
       "\n",
       "    .dataframe tbody tr th {\n",
       "        vertical-align: top;\n",
       "    }\n",
       "\n",
       "    .dataframe thead th {\n",
       "        text-align: right;\n",
       "    }\n",
       "</style>\n",
       "<table border=\"1\" class=\"dataframe\">\n",
       "  <thead>\n",
       "    <tr style=\"text-align: right;\">\n",
       "      <th></th>\n",
       "      <th>test_example_id</th>\n",
       "      <th>story</th>\n",
       "    </tr>\n",
       "  </thead>\n",
       "  <tbody>\n",
       "    <tr>\n",
       "      <th>0</th>\n",
       "      <td>0</td>\n",
       "      <td>כל קיץ אני והמשפחה נוסעים לארצות הברית לוס אנג...</td>\n",
       "    </tr>\n",
       "    <tr>\n",
       "      <th>1</th>\n",
       "      <td>1</td>\n",
       "      <td>הגעתי לשירות המדינה אחרי שנתיים כפעיל בתנועת \"...</td>\n",
       "    </tr>\n",
       "    <tr>\n",
       "      <th>2</th>\n",
       "      <td>2</td>\n",
       "      <td>אחת האהבות הגדולות שלי אלו הכלבים שלי ושל אישת...</td>\n",
       "    </tr>\n",
       "  </tbody>\n",
       "</table>\n",
       "</div>"
      ],
      "text/plain": [
       "   test_example_id                                              story\n",
       "0                0  כל קיץ אני והמשפחה נוסעים לארצות הברית לוס אנג...\n",
       "1                1  הגעתי לשירות המדינה אחרי שנתיים כפעיל בתנועת \"...\n",
       "2                2  אחת האהבות הגדולות שלי אלו הכלבים שלי ושל אישת..."
      ]
     },
     "execution_count": 9,
     "metadata": {},
     "output_type": "execute_result"
    },
    {
     "data": {
      "text/plain": [
       "(323, 2)"
      ]
     },
     "execution_count": 9,
     "metadata": {},
     "output_type": "execute_result"
    }
   ],
   "source": [
    "df_test.head(3)\n",
    "df_test.shape"
   ]
  },
  {
   "cell_type": "markdown",
   "metadata": {},
   "source": [
    "### Your implementation:\n",
    "Write your code solution in the following code-cells"
   ]
  },
  {
   "cell_type": "code",
   "execution_count": null,
   "metadata": {},
   "outputs": [],
   "source": [
    "# Name: Itay Vekselbum\n",
    "# ID: 211871827"
   ]
  },
  {
   "cell_type": "markdown",
   "metadata": {},
   "source": [
    "#### Importing libaries\n",
    "\n",
    "Importing the following libaries / functions:\n",
    "- 'LogisticRegression()'"
   ]
  },
  {
   "cell_type": "code",
   "execution_count": 10,
   "metadata": {},
   "outputs": [],
   "source": [
    "from sklearn.linear_model import LogisticRegression"
   ]
  },
  {
   "cell_type": "markdown",
   "metadata": {},
   "source": [
    "#### Preprocessing\n",
    "\n",
    "The following code cell describes deleting non-Hebrew words, numbers and punctuation marks (.,:;! etc.) except whitespaces."
   ]
  },
  {
   "cell_type": "code",
   "execution_count": 11,
   "metadata": {},
   "outputs": [],
   "source": [
    "# YOUR CODE HERE\n",
    "def preprocessing_cleaning(df_train):\n",
    "    df_copy = df_train.copy()\n",
    "    stories_lst = list(df_copy[\"story\"])\n",
    "\n",
    "    for index, txt in enumerate(stories_lst):\n",
    "        tmp_txt = \"\"\n",
    "        for c in txt:\n",
    "            if (c >= 'א' and c <= 'ת') or c == ' ':\n",
    "                tmp_txt += c\n",
    "            \n",
    "        stories_lst[index] = tmp_txt\n",
    "    \n",
    "    df_copy[\"story\"] = stories_lst\n",
    "    return df_copy"
   ]
  },
  {
   "cell_type": "markdown",
   "metadata": {},
   "source": [
    "#### Vectorization\n",
    "\n",
    "The following function describes the vectorization process on the stories. The function receives the model, an object of the model and the gender column as parameters, and performs:\n",
    "1. Creating a dataframe with all tokens as columns.\n",
    "2. Deleting words that less than 3 characters.\n",
    "3. Converted target column from 'f'/'m' to 0/1, once 'f'=0, 'm'=1 and once 'f'=1, 'm'=0."
   ]
  },
  {
   "cell_type": "code",
   "execution_count": 12,
   "metadata": {},
   "outputs": [],
   "source": [
    "# YOUR CODE HERE\n",
    "def vectorization(vectorizer, vec_data, target_col):\n",
    "    X_train = pd.DataFrame(vec_data.toarray(), columns=vectorizer.get_feature_names_out())\n",
    "    \n",
    "    y_male = np.where(target_col == 'm', 1, 0)\n",
    "    y_female = np.where(target_col == 'f', 1, 0)\n",
    "    \n",
    "    return X_train, y_male, y_female"
   ]
  },
  {
   "cell_type": "markdown",
   "metadata": {},
   "source": [
    "#### Fit trainset\n",
    "\n",
    "The following function fit the data after running GridSearchCV (in main code) and returns the best parameters for each model."
   ]
  },
  {
   "cell_type": "code",
   "execution_count": 13,
   "metadata": {},
   "outputs": [],
   "source": [
    "# YOUR CODE HERE\n",
    "def fit_trainset(clf, X_train, y_train):\n",
    "    clf.fit(X_train, y_train)\n",
    "    \n",
    "    best_params = clf.best_params_\n",
    "    \n",
    "    return best_params"
   ]
  },
  {
   "cell_type": "markdown",
   "metadata": {},
   "source": [
    "#### Calculating f1_score\n",
    "\n",
    "The following function calculates the f1_score for the model.\n",
    "The function sets the parameters obtained from the grid_search function to the model, fit the data and runs the cross_val_score function which performs a series of tests and calculates the f1_score for each test (in each test, the data is divided into train and test in a different way)."
   ]
  },
  {
   "cell_type": "code",
   "execution_count": 14,
   "metadata": {},
   "outputs": [],
   "source": [
    "# Add as many code cells as you need\n",
    "# YOUR CODE HERE\n",
    "def calc_f1_score(model, best_params, X_train, y_train):\n",
    "    model.set_params(**best_params)\n",
    "    model.fit(X_train, y_train)\n",
    "    \n",
    "    scores = cross_val_score(model, X_train, y_train, scoring=\"f1\", cv=5)\n",
    "    \n",
    "    return scores, model"
   ]
  },
  {
   "cell_type": "markdown",
   "metadata": {},
   "source": [
    "#### Predict (df_test)\n",
    "\n",
    "The following function classifies the gender of the text writers based on the model that runs for df_train (including the best parameters for the model) and converts the results to 'm'/'f' (based on gender parameter)."
   ]
  },
  {
   "cell_type": "code",
   "execution_count": 15,
   "metadata": {},
   "outputs": [],
   "source": [
    "def predict_df_test(vectorizer, model, model_params, df_test, X_train, y_train, gender):\n",
    "    df_processed = preprocessing_cleaning(df_test)\n",
    "    \n",
    "    vec_test = vectorizer.transform(df_processed[\"story\"])\n",
    "    \n",
    "    X_test = pd.DataFrame(vec_test.toarray(), columns=vectorizer.get_feature_names_out())\n",
    "    \n",
    "    model.set_params(**model_params)\n",
    "    clf = model.fit(X_train, y_train)\n",
    "    y_pred = clf.predict(X_test)\n",
    "    \n",
    "    if gender == 'm':\n",
    "        prediction_list = np.where(y_pred == 1, 'm', 'f')\n",
    "    \n",
    "    else:\n",
    "        prediction_list = np.where(y_pred == 0, 'm', 'f')\n",
    "    \n",
    "    pred_df = df_test.copy()\n",
    "    pred_df[\"gender\"] = prediction_list\n",
    "    \n",
    "    return pred_df"
   ]
  },
  {
   "cell_type": "markdown",
   "metadata": {},
   "source": [
    "#### Printing best models\n",
    "\n",
    "The function in the next cell calls to 'predict_df_test' function to predict the gender of the writers in df_test and prints:\n",
    "- Vectorizer (with it's parameters)\n",
    "- Model (with it's parameters)\n",
    "- Mean of f1_score\n",
    "- First 5 values of y_pred - results of the prediction process\n",
    "- Last 5 values of y_pred - results of the prediction process"
   ]
  },
  {
   "cell_type": "code",
   "execution_count": 16,
   "metadata": {},
   "outputs": [],
   "source": [
    "def print_best_model(vectorizer, model, y_pred, f1_score):\n",
    "    print(\"Vectorizer: {}\".format(vectorizer))\n",
    "    print(\"Model: {}\".format(model))\n",
    "    print(\"Mean f1_score: {}\".format(f1_score))\n",
    "    print()\n",
    "    \n",
    "    gender_lst = list(y_pred)\n",
    "    print(\"First 5 values of y_pred: {}\".format(gender_lst[:5]))\n",
    "    print(\"Last 5 values of y_pred: {}\".format(gender_lst[-5:]))\n",
    "    print()"
   ]
  },
  {
   "cell_type": "markdown",
   "metadata": {},
   "source": [
    "#### Lists of vectorizers, models and models' parameters\n",
    "\n",
    "The following code cell contains 3 lists:\n",
    "1. vectorizers_lst - list of tuples for each vectorizer (CountVectorizer and TfIdfVectorizer) and combinations of parameters. I chose the parameters that produced the highest results during my tests.\n",
    "2. models - list of models that will be used in my code. The selected models: KNeighborsClassifier, MultinomialNB, LogisticRegression, GaussianNB.\n",
    "3. grid_param_lst - list of dictionaries that parameters and list of values for each model (from models list).\n",
    "\n",
    "\n",
    "#### Models\n",
    "\n",
    "- 'LogisticRegression()' - LogisticRegression is a classification algorithm in scikit-learn that is used to predict binary (two-class) outcomes. It is a linear model that uses a logistic function to model the relationship between the input features and the probability of the output class.\n",
    "- 'MultinomialNB()' - Multinomial Naive Bayes algorithm is a probabilistic learning method that is mostly used in text analysis. The algorithm is based on the Bayes theorem and predicts the tag of a text. It calculates the probability of each tag for a given sample and then gives the tag with the highest probability as output."
   ]
  },
  {
   "cell_type": "code",
   "execution_count": 17,
   "metadata": {},
   "outputs": [],
   "source": [
    "vectorizers_lst = [(CountVectorizer, {'min_df' : 5, 'max_df' : 1.0, 'ngram_range' : (1, 3)}),\n",
    "                   (TfidfVectorizer, {'min_df' : 5, 'max_df' : 1.0, 'ngram_range' : (1, 3)}),\n",
    "                   (CountVectorizer, {'min_df' : 0.01, 'max_df' : 0.99, 'ngram_range' : (1, 2), 'max_features' : 40000}),\n",
    "                   (TfidfVectorizer, {'min_df' : 0.01, 'max_df' : 0.99, 'ngram_range' : (1, 2), 'max_features' : 40000})]\n",
    "\n",
    "models = [KNeighborsClassifier(), MultinomialNB(), LogisticRegression(), GaussianNB()]\n",
    "grid_param_lst = [{'n_neighbors' : [3, 5, 7, 9, 11]},\n",
    "                  {'alpha': [0.01, 0.1, 1.0, 10.0, 100.0], 'fit_prior': [True, False], 'class_prior': [None, [0.2, 0.8], [0.3, 0.7], [0.4, 0.6], [0.5, 0.5], [0.6, 0.4], [0.7, 0.3], [0.8, 0.2], [0.9, 0.1]]},\n",
    "                  {'penalty': ['l1', 'l2'], 'C': [0.01, 0.1, 1.0, 10.0, 100.0], 'solver': ['lbfgs', 'newton-cg', 'liblinear'], 'class_weight': [{0: 1, 1: 1}, {0: 1, 1: 3}, {0: 1, 1: 5}], 'random_state': [41, 42]},\n",
    "                  {}]"
   ]
  },
  {
   "cell_type": "markdown",
   "metadata": {},
   "source": [
    "#### Running functions to test models\n",
    "\n",
    "Performing the entire machine learning process:\n",
    "- Preprocessing\n",
    "- Vectorization\n",
    "- Classifying with cross-validation\n",
    "- Evaluating the model with f1_score\n",
    "- Dividing good models and models with worse results to lists\n",
    "- Printing the data of the best models"
   ]
  },
  {
   "cell_type": "code",
   "execution_count": 20,
   "metadata": {},
   "outputs": [
    {
     "name": "stdout",
     "output_type": "stream",
     "text": [
      "Male:\n",
      "Vectorizer: CountVectorizer(min_df=5, ngram_range=(1, 3))\n",
      "Model: LogisticRegression(C=100.0, class_weight={0: 1, 1: 5}, penalty='l1',\n",
      "                   random_state=41, solver='liblinear')\n",
      "Mean f1_score: 0.8866496675900954\n",
      "\n",
      "First 5 values of y_pred: ['m', 'm', 'm', 'm', 'm']\n",
      "Last 5 values of y_pred: ['m', 'm', 'm', 'm', 'm']\n",
      "\n",
      "Female:\n",
      "Vectorizer: CountVectorizer(min_df=5, ngram_range=(1, 3))\n",
      "Model: LogisticRegression(C=0.01, class_weight={0: 1, 1: 5}, random_state=41,\n",
      "                   solver='liblinear')\n",
      "Mean f1_score: 0.5745444047277307\n",
      "\n",
      "First 5 values of y_pred: ['m', 'm', 'm', 'm', 'f']\n",
      "Last 5 values of y_pred: ['m', 'm', 'm', 'm', 'm']\n",
      "\n",
      "\u001b[1mf1_average: 0.7305970361589131\u001b[0m\n",
      "\n",
      "------------------------------------------------------------------------\n",
      "Male:\n",
      "Vectorizer: TfidfVectorizer(min_df=5, ngram_range=(1, 3))\n",
      "Model: MultinomialNB(alpha=0.01, class_prior=[0.7, 0.3])\n",
      "Mean f1_score: 0.8857013607299683\n",
      "\n",
      "First 5 values of y_pred: ['m', 'm', 'm', 'm', 'm']\n",
      "Last 5 values of y_pred: ['m', 'm', 'm', 'm', 'm']\n",
      "\n",
      "Female:\n",
      "Vectorizer: TfidfVectorizer(min_df=5, ngram_range=(1, 3))\n",
      "Model: MultinomialNB(alpha=0.1, class_prior=[0.4, 0.6])\n",
      "Mean f1_score: 0.5773899388394426\n",
      "\n",
      "First 5 values of y_pred: ['m', 'm', 'm', 'm', 'm']\n",
      "Last 5 values of y_pred: ['m', 'm', 'm', 'm', 'm']\n",
      "\n",
      "\u001b[1mf1_average: 0.7315456497847055\u001b[0m\n",
      "\n",
      "------------------------------------------------------------------------\n",
      "Male:\n",
      "Vectorizer: TfidfVectorizer(min_df=5, ngram_range=(1, 3))\n",
      "Model: LogisticRegression(C=100.0, class_weight={0: 1, 1: 5}, penalty='l1',\n",
      "                   random_state=41, solver='liblinear')\n",
      "Mean f1_score: 0.8898893099752037\n",
      "\n",
      "First 5 values of y_pred: ['m', 'm', 'm', 'm', 'm']\n",
      "Last 5 values of y_pred: ['m', 'm', 'm', 'm', 'm']\n",
      "\n",
      "Female:\n",
      "Vectorizer: TfidfVectorizer(min_df=5, ngram_range=(1, 3))\n",
      "Model: LogisticRegression(class_weight={0: 1, 1: 5}, random_state=41,\n",
      "                   solver='liblinear')\n",
      "Mean f1_score: 0.5917145518937821\n",
      "\n",
      "First 5 values of y_pred: ['m', 'm', 'm', 'm', 'f']\n",
      "Last 5 values of y_pred: ['m', 'm', 'm', 'm', 'm']\n",
      "\n",
      "\u001b[1mf1_average: 0.7408019309344929\u001b[0m\n",
      "\n",
      "------------------------------------------------------------------------\n",
      "Male:\n",
      "Vectorizer: TfidfVectorizer(max_df=0.99, max_features=40000, min_df=0.01,\n",
      "                ngram_range=(1, 2))\n",
      "Model: LogisticRegression(C=10.0, class_weight={0: 1, 1: 1}, penalty='l1',\n",
      "                   random_state=41, solver='liblinear')\n",
      "Mean f1_score: 0.8893103761725912\n",
      "\n",
      "First 5 values of y_pred: ['m', 'm', 'm', 'm', 'm']\n",
      "Last 5 values of y_pred: ['m', 'm', 'm', 'm', 'm']\n",
      "\n",
      "Female:\n",
      "Vectorizer: TfidfVectorizer(max_df=0.99, max_features=40000, min_df=0.01,\n",
      "                ngram_range=(1, 2))\n",
      "Model: LogisticRegression(C=100.0, class_weight={0: 1, 1: 5}, penalty='l1',\n",
      "                   random_state=41, solver='liblinear')\n",
      "Mean f1_score: 0.5639195135031719\n",
      "\n",
      "First 5 values of y_pred: ['m', 'm', 'm', 'm', 'f']\n",
      "Last 5 values of y_pred: ['m', 'm', 'm', 'm', 'm']\n",
      "\n",
      "\u001b[1mf1_average: 0.7266149448378816\u001b[0m\n",
      "\n",
      "------------------------------------------------------------------------\n"
     ]
    }
   ],
   "source": [
    "bad_models_lst = []\n",
    "lst_y_preds = []\n",
    "\n",
    "for vectorizer_cls, params in vectorizers_lst:\n",
    "    for index, element in enumerate(models):\n",
    "        df_processed = preprocessing_cleaning(df_train)\n",
    "\n",
    "        vectorizer = vectorizer_cls(**params)\n",
    "        vec_data = vectorizer.fit_transform(df_processed[\"story\"])\n",
    "        X_train, y_male, y_female = vectorization(vectorizer, vec_data, df_processed[\"gender\"])\n",
    "            \n",
    "        clf = GridSearchCV(element, grid_param_lst[index], scoring=\"f1\", cv=5, n_jobs=-1)\n",
    "        best_params_male = fit_trainset(clf, X_train.copy(), y_male)\n",
    "        best_params_female = fit_trainset(clf, X_train.copy(), y_female)\n",
    "        \n",
    "        f1_score_male, model_male = calc_f1_score(element, best_params_male, X_train, y_male)\n",
    "        f1_score_female, model_female = calc_f1_score(element, best_params_female, X_train, y_female)\n",
    "        f1_average = (f1_score_male.mean() + f1_score_female.mean()) / 2\n",
    "            \n",
    "        if f1_average >= 0.725:\n",
    "            df_pred_male = predict_df_test(vectorizer, model_male, best_params_male, df_test, X_train, y_male, 'm')\n",
    "            print(\"Male:\")\n",
    "            print_best_model(vectorizer, model_male, df_pred_male[\"gender\"], f1_score_male.mean())\n",
    "            \n",
    "            df_pred_female = predict_df_test(vectorizer, model_female, best_params_female, df_test, X_train, y_female, 'f')\n",
    "            print(\"Female:\")\n",
    "            print_best_model(vectorizer, model_female, df_pred_female[\"gender\"], f1_score_female.mean())\n",
    "            \n",
    "            print(\"\\033[1m\" + \"f1_average: {}\".format(f1_average) + \"\\033[0m\")\n",
    "\n",
    "            print()\n",
    "            \n",
    "            lst_y_preds.append({\n",
    "                'f1_average' : f1_average,\n",
    "                'y_pred_male' : df_pred_male[\"gender\"],\n",
    "                'y_pred_female' : df_pred_female[\"gender\"]\n",
    "            })\n",
    "            \n",
    "            print(\"------------------------------------------------------------------------\")\n",
    "            \n",
    "        else:\n",
    "            bad_models_lst.append((element, f1_average))\n",
    "        "
   ]
  },
  {
   "cell_type": "markdown",
   "metadata": {},
   "source": [
    "#### Choosing the best model for df_test\n",
    "\n",
    "Here, I find the model with the best f1_score. Then, I will take the y_predicted for each target column and add it to df_predicted dataframe"
   ]
  },
  {
   "cell_type": "code",
   "execution_count": 24,
   "metadata": {},
   "outputs": [],
   "source": [
    "max_f1_avg = 0\n",
    "\n",
    "for i in lst_y_preds:\n",
    "    if i['f1_average'] > max_f1_avg:\n",
    "        max_f1_avg = i['f1_average']\n",
    "        male_prediction_list = i['y_pred_male']\n",
    "        female_prediction_list = i['y_pred_female']"
   ]
  },
  {
   "cell_type": "markdown",
   "metadata": {},
   "source": [
    "#### Printing bad models\n",
    "\n",
    "In the following code cell, I will loop over the list 'bad_models_lst' which contains models for which bad results were obtained.\n",
    "In each iteration the name of the model will be printed and f1_average."
   ]
  },
  {
   "cell_type": "code",
   "execution_count": 29,
   "metadata": {},
   "outputs": [
    {
     "name": "stdout",
     "output_type": "stream",
     "text": [
      "Model: KNeighborsClassifier(n_neighbors=3)\n",
      "f1_average: 0.5279404689412412\n",
      "\n",
      "Model: MultinomialNB(alpha=0.1, class_prior=[0.4, 0.6])\n",
      "f1_average: 0.7127204386678382\n",
      "\n",
      "Model: GaussianNB()\n",
      "f1_average: 0.4770347591371338\n",
      "\n",
      "Model: KNeighborsClassifier(n_neighbors=3)\n",
      "f1_average: 0.6336353858020989\n",
      "\n",
      "Model: GaussianNB()\n",
      "f1_average: 0.4770347591371338\n",
      "\n",
      "Model: KNeighborsClassifier(n_neighbors=3)\n",
      "f1_average: 0.5405493910118219\n",
      "\n",
      "Model: MultinomialNB(alpha=0.1, class_prior=[0.4, 0.6])\n",
      "f1_average: 0.7074453578748618\n",
      "\n",
      "Model: LogisticRegression(C=100.0, class_weight={0: 1, 1: 5}, penalty='l1',\n",
      "                   random_state=41, solver='liblinear')\n",
      "f1_average: 0.7203868902573942\n",
      "\n",
      "Model: GaussianNB()\n",
      "f1_average: 0.4857136786026947\n",
      "\n",
      "Model: KNeighborsClassifier(n_neighbors=3)\n",
      "f1_average: 0.6397509891794081\n",
      "\n",
      "Model: MultinomialNB(alpha=0.1, class_prior=[0.4, 0.6])\n",
      "f1_average: 0.7165114547483658\n",
      "\n",
      "Model: GaussianNB()\n",
      "f1_average: 0.4857136786026947\n",
      "\n"
     ]
    }
   ],
   "source": [
    "for i in bad_models_lst:\n",
    "    print(\"Model: {}\".format(i[0]))\n",
    "    print(\"f1_average: {}\".format(i[1]))\n",
    "    print()"
   ]
  },
  {
   "cell_type": "code",
   "execution_count": 30,
   "metadata": {},
   "outputs": [
    {
     "data": {
      "text/html": [
       "<div>\n",
       "<style scoped>\n",
       "    .dataframe tbody tr th:only-of-type {\n",
       "        vertical-align: middle;\n",
       "    }\n",
       "\n",
       "    .dataframe tbody tr th {\n",
       "        vertical-align: top;\n",
       "    }\n",
       "\n",
       "    .dataframe thead th {\n",
       "        text-align: right;\n",
       "    }\n",
       "</style>\n",
       "<table border=\"1\" class=\"dataframe\">\n",
       "  <thead>\n",
       "    <tr style=\"text-align: right;\">\n",
       "      <th></th>\n",
       "      <th>test_example_id</th>\n",
       "      <th>story</th>\n",
       "      <th>gender</th>\n",
       "    </tr>\n",
       "  </thead>\n",
       "  <tbody>\n",
       "    <tr>\n",
       "      <th>0</th>\n",
       "      <td>0</td>\n",
       "      <td>כל קיץ אני והמשפחה נוסעים לארצות הברית לוס אנג...</td>\n",
       "      <td>m</td>\n",
       "    </tr>\n",
       "    <tr>\n",
       "      <th>1</th>\n",
       "      <td>1</td>\n",
       "      <td>הגעתי לשירות המדינה אחרי שנתיים כפעיל בתנועת \"...</td>\n",
       "      <td>m</td>\n",
       "    </tr>\n",
       "    <tr>\n",
       "      <th>2</th>\n",
       "      <td>2</td>\n",
       "      <td>אחת האהבות הגדולות שלי אלו הכלבים שלי ושל אישת...</td>\n",
       "      <td>m</td>\n",
       "    </tr>\n",
       "    <tr>\n",
       "      <th>3</th>\n",
       "      <td>3</td>\n",
       "      <td>רגע הגיוס לצבא היה הרגע הכי משמעותי עבורי, אני...</td>\n",
       "      <td>m</td>\n",
       "    </tr>\n",
       "    <tr>\n",
       "      <th>4</th>\n",
       "      <td>4</td>\n",
       "      <td>אני הגעתי לברזיל ישר מקולומביה וגם אני עשיתי ע...</td>\n",
       "      <td>m</td>\n",
       "    </tr>\n",
       "    <tr>\n",
       "      <th>...</th>\n",
       "      <td>...</td>\n",
       "      <td>...</td>\n",
       "      <td>...</td>\n",
       "    </tr>\n",
       "    <tr>\n",
       "      <th>318</th>\n",
       "      <td>318</td>\n",
       "      <td>בשנה האחרונה הרגשתי די תקוע בעבודה, השגרה הפכה...</td>\n",
       "      <td>m</td>\n",
       "    </tr>\n",
       "    <tr>\n",
       "      <th>319</th>\n",
       "      <td>319</td>\n",
       "      <td>אני ואילן חברים טובים מזה 20 שנה תמיד חלמנו לפ...</td>\n",
       "      <td>m</td>\n",
       "    </tr>\n",
       "    <tr>\n",
       "      <th>320</th>\n",
       "      <td>320</td>\n",
       "      <td>מידי יום שישי אני נוהג לנסוע בתחבורה ציבורית ס...</td>\n",
       "      <td>m</td>\n",
       "    </tr>\n",
       "    <tr>\n",
       "      <th>321</th>\n",
       "      <td>321</td>\n",
       "      <td>לפני מספר חודשים, בשיא התחלואה של הגל השני, עמ...</td>\n",
       "      <td>m</td>\n",
       "    </tr>\n",
       "    <tr>\n",
       "      <th>322</th>\n",
       "      <td>322</td>\n",
       "      <td>היום בו דיווחתי על גניבה של האוטו שלי. בוקר אח...</td>\n",
       "      <td>m</td>\n",
       "    </tr>\n",
       "  </tbody>\n",
       "</table>\n",
       "<p>323 rows × 3 columns</p>\n",
       "</div>"
      ],
      "text/plain": [
       "     test_example_id                                              story gender\n",
       "0                  0  כל קיץ אני והמשפחה נוסעים לארצות הברית לוס אנג...      m\n",
       "1                  1  הגעתי לשירות המדינה אחרי שנתיים כפעיל בתנועת \"...      m\n",
       "2                  2  אחת האהבות הגדולות שלי אלו הכלבים שלי ושל אישת...      m\n",
       "3                  3  רגע הגיוס לצבא היה הרגע הכי משמעותי עבורי, אני...      m\n",
       "4                  4  אני הגעתי לברזיל ישר מקולומביה וגם אני עשיתי ע...      m\n",
       "..               ...                                                ...    ...\n",
       "318              318  בשנה האחרונה הרגשתי די תקוע בעבודה, השגרה הפכה...      m\n",
       "319              319  אני ואילן חברים טובים מזה 20 שנה תמיד חלמנו לפ...      m\n",
       "320              320  מידי יום שישי אני נוהג לנסוע בתחבורה ציבורית ס...      m\n",
       "321              321  לפני מספר חודשים, בשיא התחלואה של הגל השני, עמ...      m\n",
       "322              322  היום בו דיווחתי על גניבה של האוטו שלי. בוקר אח...      m\n",
       "\n",
       "[323 rows x 3 columns]"
      ]
     },
     "execution_count": 30,
     "metadata": {},
     "output_type": "execute_result"
    }
   ],
   "source": [
    "df_test_predicted = df_test.copy()\n",
    "\n",
    "df_test_predicted[\"gender\"] = male_prediction_list\n",
    "df_test_predicted"
   ]
  },
  {
   "cell_type": "markdown",
   "metadata": {},
   "source": [
    "### Save output to csv (optional)\n",
    "After you're done save your output to the 'classification_results.csv' csv file.<br/>\n",
    "We assume that the dataframe with your results contain the following columns:\n",
    "* column 1 (left column): 'test_example_id'  - the same id associated to each of the test stories to be predicted.\n",
    "* column 2 (right column): 'predicted_category' - the predicted gender value for each of the associated story. \n",
    "\n",
    "Assuming your predicted values are in the `df_predicted` dataframe, you should save you're results as following:"
   ]
  },
  {
   "cell_type": "code",
   "execution_count": null,
   "metadata": {},
   "outputs": [],
   "source": [
    "df_predicted.to_csv('classification_results_male.csv',index=False)"
   ]
  }
 ],
 "metadata": {
  "celltoolbar": "Create Assignment",
  "kernelspec": {
   "display_name": "Python 3 (ipykernel)",
   "language": "python",
   "name": "python3"
  },
  "language_info": {
   "codemirror_mode": {
    "name": "ipython",
    "version": 3
   },
   "file_extension": ".py",
   "mimetype": "text/x-python",
   "name": "python",
   "nbconvert_exporter": "python",
   "pygments_lexer": "ipython3",
   "version": "3.9.13"
  }
 },
 "nbformat": 4,
 "nbformat_minor": 4
}
